{
 "cells": [
  {
   "cell_type": "markdown",
   "id": "0349ff84",
   "metadata": {},
   "source": [
    "Q1.\tWrite a Python program to find sum of elements in list?"
   ]
  },
  {
   "cell_type": "code",
   "execution_count": 1,
   "id": "04958f79",
   "metadata": {},
   "outputs": [
    {
     "name": "stdout",
     "output_type": "stream",
     "text": [
      "Sum of the elements of the list is: 45\n"
     ]
    }
   ],
   "source": [
    "#ans1.\n",
    "l = [1,2,3,4,5,6,7,8,9,0]\n",
    "s = 0 \n",
    "for i in l:\n",
    "    if type(i)==int or type(i)==float:\n",
    "        s = s+i\n",
    "print(f\"Sum of the elements of the list is: {s}\")"
   ]
  },
  {
   "cell_type": "markdown",
   "id": "87655492",
   "metadata": {},
   "source": [
    "Q2.\tWrite a Python program to  Multiply all numbers in the list?"
   ]
  },
  {
   "cell_type": "code",
   "execution_count": 2,
   "id": "eaf831df",
   "metadata": {},
   "outputs": [
    {
     "name": "stdout",
     "output_type": "stream",
     "text": [
      "Sum of the elements of the list is: 362880\n"
     ]
    }
   ],
   "source": [
    "#ans2.\n",
    "l = [1,2,3,4,5,6,7,8,9,'0']\n",
    "s = 1 \n",
    "for i in l:\n",
    "    if type(i)==int or type(i)==float:\n",
    "        s = s*i\n",
    "print(f\"Sum of the elements of the list is: {s}\")"
   ]
  },
  {
   "cell_type": "markdown",
   "id": "cea2e55c",
   "metadata": {},
   "source": [
    "Q3.\tWrite a Python program to find smallest number in a list?"
   ]
  },
  {
   "cell_type": "code",
   "execution_count": 3,
   "id": "1eebe1ae",
   "metadata": {},
   "outputs": [
    {
     "name": "stdout",
     "output_type": "stream",
     "text": [
      "Smallest number in a list = 0\n"
     ]
    }
   ],
   "source": [
    "#ans3.\n",
    "l = [1,2,3,4,5,6,7,8,9,0]\n",
    "print(f\"Smallest number in a list = {sorted(l)[0]}\")"
   ]
  },
  {
   "cell_type": "markdown",
   "id": "bd802f22",
   "metadata": {},
   "source": [
    "Q4.\tWrite a Python program to find largest number in a list?"
   ]
  },
  {
   "cell_type": "code",
   "execution_count": 4,
   "id": "7ff89b8c",
   "metadata": {},
   "outputs": [
    {
     "name": "stdout",
     "output_type": "stream",
     "text": [
      "Largest number in a list = 9\n"
     ]
    }
   ],
   "source": [
    "#ans4.\n",
    "l = [1,2,3,4,5,6,7,8,9,0]\n",
    "print(f\"Largest number in a list = {sorted(l)[-1]}\")"
   ]
  },
  {
   "cell_type": "markdown",
   "id": "2bfaefdf",
   "metadata": {},
   "source": [
    "Q5.\tWrite a Python program to find second largest number in a list?"
   ]
  },
  {
   "cell_type": "code",
   "execution_count": 5,
   "id": "2e1b72ff",
   "metadata": {},
   "outputs": [
    {
     "name": "stdout",
     "output_type": "stream",
     "text": [
      "Second largest number in a list = 8\n"
     ]
    }
   ],
   "source": [
    "#ans5.\n",
    "l = [1,2,3,4,5,6,7,8,9,0]\n",
    "print(f\"Second largest number in a list = {sorted(l)[-2]}\")"
   ]
  },
  {
   "cell_type": "markdown",
   "id": "02f271e5",
   "metadata": {},
   "source": [
    "Q6.\tWrite a Python program to find N largest elements from a list?"
   ]
  },
  {
   "cell_type": "code",
   "execution_count": 6,
   "id": "87a360e8",
   "metadata": {},
   "outputs": [
    {
     "name": "stdout",
     "output_type": "stream",
     "text": [
      "How many largest element you want = 3\n",
      "The 3 largest elements from the list are:\n",
      "9\n",
      "8\n",
      "7\n"
     ]
    }
   ],
   "source": [
    "#ans6.\n",
    "l = [1,2,3,4,5,6,7,8,9,0]\n",
    "n = int(input('How many largest element you want = '))\n",
    "print(f'The {n} largest elements from the list are:')\n",
    "for i in range(n):\n",
    "    print(sorted(l)[-(i+1)])"
   ]
  },
  {
   "cell_type": "markdown",
   "id": "c8e77f0f",
   "metadata": {},
   "source": [
    "Q7.\tWrite a Python program to print even numbers in a list?"
   ]
  },
  {
   "cell_type": "code",
   "execution_count": 7,
   "id": "a71a6984",
   "metadata": {},
   "outputs": [
    {
     "name": "stdout",
     "output_type": "stream",
     "text": [
      "Even numbers from the list:\n",
      "2\n",
      "4\n",
      "6\n",
      "8\n",
      "0\n"
     ]
    }
   ],
   "source": [
    "#ans7.\n",
    "l = [1,2,3,4,5,6,7,8,9,0]\n",
    "print('Even numbers from the list:')\n",
    "for i in l:\n",
    "    if i%2==0:\n",
    "        print(i)"
   ]
  },
  {
   "cell_type": "markdown",
   "id": "b4bb992e",
   "metadata": {},
   "source": [
    "Q8.\tWrite a Python program to print odd numbers in a List?"
   ]
  },
  {
   "cell_type": "code",
   "execution_count": 8,
   "id": "590226ef",
   "metadata": {},
   "outputs": [
    {
     "name": "stdout",
     "output_type": "stream",
     "text": [
      "Odd numbers from the list:\n",
      "1\n",
      "3\n",
      "5\n",
      "7\n",
      "9\n"
     ]
    }
   ],
   "source": [
    "#ans8.\n",
    "l = [1,2,3,4,5,6,7,8,9,0]\n",
    "print('Odd numbers from the list:')\n",
    "for i in l:\n",
    "    if i%2!=0:\n",
    "        print(i)"
   ]
  },
  {
   "cell_type": "markdown",
   "id": "198f75f1",
   "metadata": {},
   "source": [
    "Q9.\tWrite a Python program to Remove empty List from List?"
   ]
  },
  {
   "cell_type": "code",
   "execution_count": 9,
   "id": "bfd1bca7",
   "metadata": {},
   "outputs": [
    {
     "data": {
      "text/plain": [
       "[1, 2, 3, 432, 76213, 6, [2], 7, 123, [3, 4], 45, 3]"
      ]
     },
     "execution_count": 9,
     "metadata": {},
     "output_type": "execute_result"
    }
   ],
   "source": [
    "#ans9.\n",
    "l = [1,2,3,[],432,76213,6,[2],7,123,[3,4],45,[],3]\n",
    "for i in l:\n",
    "    if type(i)==list:\n",
    "        if len(i)==0:\n",
    "            l.remove(i)\n",
    "l"
   ]
  },
  {
   "cell_type": "markdown",
   "id": "a43b03de",
   "metadata": {},
   "source": [
    "Q10.\tWrite a Python program to Cloning or Copying a list?"
   ]
  },
  {
   "cell_type": "code",
   "execution_count": 10,
   "id": "128b46fe",
   "metadata": {},
   "outputs": [
    {
     "data": {
      "text/plain": [
       "[1, 2, 3, [], 432, 76213, 6, [2], 7, 123, [3, 4], 45, [], 3]"
      ]
     },
     "execution_count": 10,
     "metadata": {},
     "output_type": "execute_result"
    }
   ],
   "source": [
    "#ans10.\n",
    "l = [1,2,3,[],432,76213,6,[2],7,123,[3,4],45,[],3]\n",
    "l1 = l.copy()\n",
    "l1"
   ]
  },
  {
   "cell_type": "code",
   "execution_count": 11,
   "id": "24610aed",
   "metadata": {},
   "outputs": [
    {
     "data": {
      "text/plain": [
       "[1, 2, 3, [], 432, 76213, 6, [2], 7, 123, [3, 4], 45, [], 3]"
      ]
     },
     "execution_count": 11,
     "metadata": {},
     "output_type": "execute_result"
    }
   ],
   "source": [
    "l1"
   ]
  },
  {
   "cell_type": "markdown",
   "id": "f02cdfb9",
   "metadata": {},
   "source": [
    "Q11.\tWrite a Python program to Count occurrences of an element in a list?"
   ]
  },
  {
   "cell_type": "code",
   "execution_count": 13,
   "id": "c3da64a4",
   "metadata": {},
   "outputs": [
    {
     "name": "stdout",
     "output_type": "stream",
     "text": [
      "Occurences of 1 is 2 times\n",
      "Occurences of 2 is 2 times\n",
      "Occurences of 3 is 2 times\n",
      "Occurences of [] is 2 times\n",
      "Occurences of 432 is 1 times\n",
      "Occurences of 76213 is 1 times\n",
      "Occurences of 6 is 2 times\n",
      "Occurences of [2] is 1 times\n",
      "Occurences of 7 is 1 times\n",
      "Occurences of 2 is 2 times\n",
      "Occurences of 5 is 2 times\n",
      "Occurences of 6 is 2 times\n",
      "Occurences of 4 is 2 times\n",
      "Occurences of 5 is 2 times\n",
      "Occurences of 4 is 2 times\n",
      "Occurences of 1 is 2 times\n",
      "Occurences of 123 is 1 times\n",
      "Occurences of [3, 4] is 1 times\n",
      "Occurences of 45 is 1 times\n",
      "Occurences of [] is 2 times\n",
      "Occurences of 3 is 2 times\n"
     ]
    }
   ],
   "source": [
    "#ans11.\n",
    "l = [1,2,3,[],432,76213,6,[2],7,2,5,6,4,5,4,1,123,[3,4],45,[],3]\n",
    "for i in l:\n",
    "    print(f\"Occurences of {i} is {l.count(i)} times\")"
   ]
  },
  {
   "cell_type": "code",
   "execution_count": null,
   "id": "c8e1f2a4",
   "metadata": {},
   "outputs": [],
   "source": []
  }
 ],
 "metadata": {
  "kernelspec": {
   "display_name": "Python 3 (ipykernel)",
   "language": "python",
   "name": "python3"
  },
  "language_info": {
   "codemirror_mode": {
    "name": "ipython",
    "version": 3
   },
   "file_extension": ".py",
   "mimetype": "text/x-python",
   "name": "python",
   "nbconvert_exporter": "python",
   "pygments_lexer": "ipython3",
   "version": "3.9.12"
  }
 },
 "nbformat": 4,
 "nbformat_minor": 5
}
