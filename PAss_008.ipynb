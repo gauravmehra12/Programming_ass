{
 "cells": [
  {
   "cell_type": "markdown",
   "id": "b219daba",
   "metadata": {},
   "source": [
    "Q1.\tWrite a Python Program to Add Two Matrices"
   ]
  },
  {
   "cell_type": "code",
   "execution_count": 1,
   "id": "29992774",
   "metadata": {},
   "outputs": [
    {
     "name": "stdout",
     "output_type": "stream",
     "text": [
      "[10, 10, 10]\n",
      "[10, 10, 10]\n",
      "[11, 11, 11]\n"
     ]
    }
   ],
   "source": [
    "#ans1.\n",
    "x = [[1,2,3],[4,5,6],[7,8,9]]\n",
    "y = [[9,8,7],[6,5,4],[4,3,2]]\n",
    "r = [[0,0,0],[0,0,0],[0,0,0]]\n",
    "for i in range(len(x)):\n",
    "     for j in range(len(x[i])):\n",
    "            r[i][j] = x[i][j] + y[i][j]\n",
    "for a in r:\n",
    "    print(a)"
   ]
  },
  {
   "cell_type": "markdown",
   "id": "dd92a031",
   "metadata": {},
   "source": [
    "Q2.\tWrite a Python Program to Multiply Two Matrices?"
   ]
  },
  {
   "cell_type": "code",
   "execution_count": 2,
   "id": "d5dd642e",
   "metadata": {},
   "outputs": [
    {
     "name": "stdout",
     "output_type": "stream",
     "text": [
      "[33, 27, 21]\n",
      "[90, 75, 60]\n",
      "[147, 123, 99]\n"
     ]
    }
   ],
   "source": [
    "#ans2.\n",
    "x = [[1,2,3],[4,5,6],[7,8,9]]\n",
    "y = [[9,8,7],[6,5,4],[4,3,2]]\n",
    "r = [[0,0,0],[0,0,0],[0,0,0]]\n",
    "for i in range(len(x)):\n",
    "    for j in range(len(y[0])):\n",
    "        for k in range(len(y)):\n",
    "            r[i][j] = r[i][j] + x[i][k] * y[k][j]\n",
    "for a in r:\n",
    "    print(a)"
   ]
  },
  {
   "cell_type": "markdown",
   "id": "5b533978",
   "metadata": {},
   "source": [
    "Q3.\tWrite a Python Program to Transpose a Matrix?"
   ]
  },
  {
   "cell_type": "code",
   "execution_count": 3,
   "id": "f1258211",
   "metadata": {},
   "outputs": [
    {
     "name": "stdout",
     "output_type": "stream",
     "text": [
      "x = \n",
      "[1, 2, 3]\n",
      "[4, 5, 6]\n",
      "[7, 8, 9]\n",
      "Transpose of x = \n",
      "[1, 4, 7]\n",
      "[2, 5, 8]\n",
      "[3, 6, 9]\n"
     ]
    }
   ],
   "source": [
    "#ans3.\n",
    "x = [[1,2,3],[4,5,6],[7,8,9]]\n",
    "r = [[0,0,0],[0,0,0],[0,0,0]]\n",
    "print(\"x = \")\n",
    "for a in x:\n",
    "    print(a)\n",
    "print(\"Transpose of x = \")\n",
    "for i in range(len(x)):\n",
    "    for j in range(len(x[i])):\n",
    "        r[i][j] = x[j][i]\n",
    "for b in r:\n",
    "    print(b)"
   ]
  },
  {
   "cell_type": "markdown",
   "id": "07036d2c",
   "metadata": {},
   "source": [
    "Q4.\tWrite a Python Program to Sort Words in Alphabetic Order?"
   ]
  },
  {
   "cell_type": "code",
   "execution_count": 4,
   "id": "d86d91e3",
   "metadata": {},
   "outputs": [
    {
     "name": "stdout",
     "output_type": "stream",
     "text": [
      "for\n",
      "is\n",
      "my\n",
      "program\n",
      "python\n",
      "sorting\n",
      "this\n"
     ]
    }
   ],
   "source": [
    "#ans4.\n",
    "s = \"This is my python program for sorting\"\n",
    "sl = s.lower()\n",
    "l = sl.split(\" \")\n",
    "l.sort()\n",
    "for i in l :\n",
    "    print(i)"
   ]
  },
  {
   "cell_type": "markdown",
   "id": "79f29a47",
   "metadata": {},
   "source": [
    "Q5.\tWrite a Python Program to Remove Punctuation From a String?"
   ]
  },
  {
   "cell_type": "code",
   "execution_count": 5,
   "id": "7a136659",
   "metadata": {},
   "outputs": [
    {
     "name": "stdout",
     "output_type": "stream",
     "text": [
      "this is my !! program * to$ revome () punctuation &\n",
      "After removing punctuation from a string:\n",
      "this is my  program  to revome  punctuation \n"
     ]
    }
   ],
   "source": [
    "#ans5.\n",
    "p = '''`~!@#$%^&*()_-{}'[];:\",./<>\\?'''\n",
    "st = \"this is my !! program * to$ revome () punctuation &\"\n",
    "print(st)\n",
    "new = \"\"\n",
    "for i in st:\n",
    "    if i not in p:\n",
    "        new = new + i\n",
    "print(\"After removing punctuation from a string:\")\n",
    "print(new)"
   ]
  },
  {
   "cell_type": "code",
   "execution_count": null,
   "id": "07dde4b4",
   "metadata": {},
   "outputs": [],
   "source": []
  }
 ],
 "metadata": {
  "kernelspec": {
   "display_name": "Python 3 (ipykernel)",
   "language": "python",
   "name": "python3"
  },
  "language_info": {
   "codemirror_mode": {
    "name": "ipython",
    "version": 3
   },
   "file_extension": ".py",
   "mimetype": "text/x-python",
   "name": "python",
   "nbconvert_exporter": "python",
   "pygments_lexer": "ipython3",
   "version": "3.9.12"
  }
 },
 "nbformat": 4,
 "nbformat_minor": 5
}
