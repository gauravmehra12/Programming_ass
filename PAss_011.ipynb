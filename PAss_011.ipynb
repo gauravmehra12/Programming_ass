{
 "cells": [
  {
   "cell_type": "markdown",
   "id": "2ef27c94",
   "metadata": {},
   "source": [
    "Q1.\tWrite a Python program to find words which are greater than given length k?"
   ]
  },
  {
   "cell_type": "code",
   "execution_count": 1,
   "id": "0df4631d",
   "metadata": {},
   "outputs": [
    {
     "name": "stdout",
     "output_type": "stream",
     "text": [
      "Enter the minimum length of the words = 6\n",
      "information\n",
      "current\n",
      "events.\n",
      "provided\n",
      "through\n",
      "different\n",
      "media:\n",
      "mouth,\n",
      "printing,\n",
      "postal\n",
      "systems,\n",
      "broadcasting,\n",
      "electronic\n",
      "communication,\n",
      "through\n",
      "testimony\n",
      "observers\n",
      "witnesses\n",
      "events.\n",
      "sometimes\n",
      "called\n",
      "differentiate\n",
      "media.\n"
     ]
    }
   ],
   "source": [
    "#ans1.\n",
    "s = \"News is information about current events. This may be provided through many different media: word of mouth, printing, postal systems, broadcasting, electronic communication, or through the testimony of observers and witnesses to events. News is sometimes called \\\"hard news\\\" to differentiate it from soft media.\"\n",
    "k = int(input(\"Enter the minimum length of the words = \"))\n",
    "l = s.split()\n",
    "for i in l:\n",
    "    if len(i)>=k:\n",
    "        print(i)"
   ]
  },
  {
   "cell_type": "markdown",
   "id": "ad88da83",
   "metadata": {},
   "source": [
    "Q2.\tWrite a Python program for removing i-th character from a string?"
   ]
  },
  {
   "cell_type": "code",
   "execution_count": 2,
   "id": "2b35434c",
   "metadata": {},
   "outputs": [
    {
     "name": "stdout",
     "output_type": "stream",
     "text": [
      "Enter the index of the character to remove: 10\n",
      "\n",
      "String before:\n",
      "\n",
      "News is information about current events. This may be provided through many different media: word of mouth, printing, postal systems, broadcasting, electronic communication, or through the testimony of observers and witnesses to events. News is sometimes called \"hard news\" to differentiate it from soft media.\n",
      "\n",
      "String after removing the 10th character:\n",
      "\n",
      "News is inormation about current events. This may be provided through many different media: word of mouth, printing, postal systems, broadcasting, electronic communication, or through the testimony of observers and witnesses to events. News is sometimes called \"hard news\" to differentiate it from soft media.\n"
     ]
    }
   ],
   "source": [
    "#ans2.\n",
    "s = \"News is information about current events. This may be provided through many different media: word of mouth, printing, postal systems, broadcasting, electronic communication, or through the testimony of observers and witnesses to events. News is sometimes called \\\"hard news\\\" to differentiate it from soft media.\"\n",
    "i = int(input(\"Enter the index of the character to remove: \"))\n",
    "print(\"\\nString before:\\n\")\n",
    "print(s)\n",
    "s = s[:i] + s[i+1:]\n",
    "print(f\"\\nString after removing the {i}th character:\\n\")\n",
    "print(s)"
   ]
  },
  {
   "cell_type": "markdown",
   "id": "c5462f4a",
   "metadata": {},
   "source": [
    "Q3.\tWrite a Python program to split and join a string?"
   ]
  },
  {
   "cell_type": "code",
   "execution_count": 3,
   "id": "4b044bca",
   "metadata": {},
   "outputs": [
    {
     "name": "stdout",
     "output_type": "stream",
     "text": [
      "String = This is python program for split and join operation \n",
      "\n",
      "String after split:\n",
      "['This', 'is', 'python', 'program', 'for', 'split', 'and', 'join', 'operation']\n",
      "\n",
      "String after joining again with space:\n",
      "This is python program for split and join operation\n"
     ]
    }
   ],
   "source": [
    "#ans3.\n",
    "s = \"This is python program for split and join operation\"\n",
    "l = s.split(' ')\n",
    "print(f\"String = {s} \\n\\nString after split:\\n{l}\\n\")\n",
    "s1 = ' '.join(l)\n",
    "print(f\"String after joining again with space:\\n{s1}\")"
   ]
  },
  {
   "cell_type": "markdown",
   "id": "c905da0a",
   "metadata": {},
   "source": [
    "Q4.\tWrite a Python to check if a given string is binary string or not?"
   ]
  },
  {
   "cell_type": "code",
   "execution_count": 4,
   "id": "0ff2cf24",
   "metadata": {},
   "outputs": [
    {
     "name": "stdout",
     "output_type": "stream",
     "text": [
      "Enter a string to check it is binary string or not: 01101 2\n",
      "Not a binary string\n"
     ]
    }
   ],
   "source": [
    "#ans4. \n",
    "s = input(\"Enter a string to check it is binary string or not: \")\n",
    "t = set(s)\n",
    "if t == {'0','1'} or t == {'0'} or t == {'1'}:\n",
    "    print(\"Yes it is binary\")\n",
    "else:\n",
    "    print(\"Not a binary string\")"
   ]
  },
  {
   "cell_type": "markdown",
   "id": "ff08616f",
   "metadata": {},
   "source": [
    "Q5.\tWrite a Python program to find uncommon words from two Strings?"
   ]
  },
  {
   "cell_type": "code",
   "execution_count": 1,
   "id": "3fa36f4b",
   "metadata": {},
   "outputs": [
    {
     "name": "stdout",
     "output_type": "stream",
     "text": [
      "Uncommon Words: ['have', 'Science', 'Data', 'is']\n"
     ]
    }
   ],
   "source": [
    "#ans5.\n",
    "s1 = \"Ineuron have course\"\n",
    "s2 = \"Data Science is Ineuron course\"\n",
    "s11 = s1.split(\" \")\n",
    "s22 = s2.split(\" \")\n",
    "l = []\n",
    "\n",
    "for i in set(s11):\n",
    "    if i not in s22:\n",
    "        l.append(i)\n",
    "for i in set(s22):\n",
    "    if i not in s11:\n",
    "        l.append(i)\n",
    "\n",
    "print(f\"Uncommon Words: {l}\")"
   ]
  },
  {
   "cell_type": "markdown",
   "id": "2a457564",
   "metadata": {},
   "source": [
    "Q6.\tWrite a Python to find all duplicate characters in string?"
   ]
  },
  {
   "cell_type": "code",
   "execution_count": 2,
   "id": "807e1b20",
   "metadata": {},
   "outputs": [
    {
     "name": "stdout",
     "output_type": "stream",
     "text": [
      "Duplicate characters in string: {'e', 'i', 'd', 'h', 'a', 'l'}\n"
     ]
    }
   ],
   "source": [
    "#ans6.\n",
    "s = \"lashdfoweigheribvilad\"\n",
    "ss = set()\n",
    "for i in s:\n",
    "    if s.count(i)>1:\n",
    "        ss.add(i)\n",
    "print(f\"Duplicate characters in string: {ss}\")"
   ]
  },
  {
   "cell_type": "markdown",
   "id": "8b8b5352",
   "metadata": {},
   "source": [
    "Q7.\tWrite a Python Program to check if a string contains any special character?"
   ]
  },
  {
   "cell_type": "code",
   "execution_count": 5,
   "id": "6cdf1028",
   "metadata": {},
   "outputs": [
    {
     "name": "stdout",
     "output_type": "stream",
     "text": [
      "String contains special characters\n"
     ]
    }
   ],
   "source": [
    "#ans7.\n",
    "p = '''`~!@#$%^&*()_-{}'[];:\",./<>\\?'''\n",
    "st = \"this is my !! program &\"\n",
    "for i in st:\n",
    "    if i in p:\n",
    "        print(\"String contains special characters\")\n",
    "        break\n",
    "else:\n",
    "    print(\"String do not contains special characters\")"
   ]
  },
  {
   "cell_type": "code",
   "execution_count": null,
   "id": "fd0aadc2",
   "metadata": {},
   "outputs": [],
   "source": []
  }
 ],
 "metadata": {
  "kernelspec": {
   "display_name": "Python 3 (ipykernel)",
   "language": "python",
   "name": "python3"
  },
  "language_info": {
   "codemirror_mode": {
    "name": "ipython",
    "version": 3
   },
   "file_extension": ".py",
   "mimetype": "text/x-python",
   "name": "python",
   "nbconvert_exporter": "python",
   "pygments_lexer": "ipython3",
   "version": "3.9.12"
  }
 },
 "nbformat": 4,
 "nbformat_minor": 5
}
