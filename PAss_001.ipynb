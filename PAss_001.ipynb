{
 "cells": [
  {
   "cell_type": "markdown",
   "id": "4e75ef05",
   "metadata": {},
   "source": [
    "Q1.\tWrite a Python program to print \"Hello Python\"?"
   ]
  },
  {
   "cell_type": "code",
   "execution_count": 1,
   "id": "979ac7cd",
   "metadata": {},
   "outputs": [
    {
     "name": "stdout",
     "output_type": "stream",
     "text": [
      "Hello Python\n"
     ]
    }
   ],
   "source": [
    "#ans1.\n",
    "print(\"Hello Python\")"
   ]
  },
  {
   "cell_type": "markdown",
   "id": "90b4434e",
   "metadata": {},
   "source": [
    "Q2.\tWrite a Python program to do arithmetical operations addition and division.?"
   ]
  },
  {
   "cell_type": "code",
   "execution_count": 2,
   "id": "8aff21ff",
   "metadata": {},
   "outputs": [
    {
     "name": "stdout",
     "output_type": "stream",
     "text": [
      "Enter an integer a = 25\n",
      "Enter an integer b = 5\n",
      "Addition of a and b = 30\n",
      "Dividing a by b = 5.0\n"
     ]
    }
   ],
   "source": [
    "#ans2.\n",
    "a = int(input(\"Enter an integer a = \"))\n",
    "b = int(input(\"Enter an integer b = \"))\n",
    "print(f\"Addition of a and b = {a+b}\")\n",
    "print(f\"Dividing a by b = {a/b}\")"
   ]
  },
  {
   "cell_type": "markdown",
   "id": "156cb19b",
   "metadata": {},
   "source": [
    "Q3.\tWrite a Python program to find the area of a triangle?"
   ]
  },
  {
   "cell_type": "code",
   "execution_count": 1,
   "id": "ebefe980",
   "metadata": {},
   "outputs": [
    {
     "name": "stdout",
     "output_type": "stream",
     "text": [
      "Enter the height of triangle = 20\n",
      "Enter the base of triangle = 10.25\n",
      "The area of the triangle = 102.5\n"
     ]
    }
   ],
   "source": [
    "#ans3.\n",
    "h = float(input(\"Enter the height of triangle = \"))\n",
    "b = float(input(\"Enter the base of triangle = \"))\n",
    "print(f\"The area of the triangle = {0.5*h*b}\")"
   ]
  },
  {
   "cell_type": "markdown",
   "id": "5c50f78e",
   "metadata": {},
   "source": [
    "Q4.\tWrite a Python program to swap two variables?"
   ]
  },
  {
   "cell_type": "code",
   "execution_count": 3,
   "id": "b84b8063",
   "metadata": {},
   "outputs": [
    {
     "name": "stdout",
     "output_type": "stream",
     "text": [
      "Enter an integer x = 20\n",
      "Enter an integer y = 78\n",
      "Before swaping x = 20 and y = 78\n",
      "After swaping x = 78 and y = 20\n"
     ]
    }
   ],
   "source": [
    "#ans4.\n",
    "x = int(input(\"Enter an integer x = \"))\n",
    "y = int(input(\"Enter an integer y = \"))\n",
    "print(f\"Before swaping x = {x} and y = {y}\")\n",
    "swap = x\n",
    "x = y\n",
    "y = swap\n",
    "print(f\"After swaping x = {x} and y = {y}\")"
   ]
  },
  {
   "cell_type": "markdown",
   "id": "3ef775b6",
   "metadata": {},
   "source": [
    "Q5.\tWrite a Python program to generate a random number?"
   ]
  },
  {
   "cell_type": "code",
   "execution_count": null,
   "id": "b0bc6cad",
   "metadata": {},
   "outputs": [],
   "source": [
    "#ans5."
   ]
  },
  {
   "cell_type": "code",
   "execution_count": 4,
   "id": "f580abe4",
   "metadata": {},
   "outputs": [
    {
     "name": "stdout",
     "output_type": "stream",
     "text": [
      "0.7685383091098268\n",
      "86615\n"
     ]
    }
   ],
   "source": [
    "import random\n",
    "print(random.random())\n",
    "print(random.randint(0,87234))"
   ]
  }
 ],
 "metadata": {
  "kernelspec": {
   "display_name": "Python 3 (ipykernel)",
   "language": "python",
   "name": "python3"
  },
  "language_info": {
   "codemirror_mode": {
    "name": "ipython",
    "version": 3
   },
   "file_extension": ".py",
   "mimetype": "text/x-python",
   "name": "python",
   "nbconvert_exporter": "python",
   "pygments_lexer": "ipython3",
   "version": "3.9.12"
  }
 },
 "nbformat": 4,
 "nbformat_minor": 5
}
