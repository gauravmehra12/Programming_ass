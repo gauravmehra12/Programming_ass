{
 "cells": [
  {
   "cell_type": "markdown",
   "id": "fc00b05e",
   "metadata": {},
   "source": [
    "Q1.\tWrite a Python program to Extract Unique values dictionary values?"
   ]
  },
  {
   "cell_type": "code",
   "execution_count": 1,
   "id": "4bb5ef10",
   "metadata": {},
   "outputs": [
    {
     "data": {
      "text/plain": [
       "[1, 34, 67, 8, 23]"
      ]
     },
     "execution_count": 1,
     "metadata": {},
     "output_type": "execute_result"
    }
   ],
   "source": [
    "#ans1.\n",
    "d={'a':1,\n",
    "   'b':34,\n",
    "   'c':67,\n",
    "   'w':23,\n",
    "   'q':1,\n",
    "   'd':34,\n",
    "   'f':8\n",
    "}\n",
    "a = list(set(d.values()))\n",
    "a"
   ]
  },
  {
   "cell_type": "markdown",
   "id": "a9266cb3",
   "metadata": {},
   "source": [
    "Q2.\tWrite a Python program to find the sum of all items in a dictionary?"
   ]
  },
  {
   "cell_type": "code",
   "execution_count": 2,
   "id": "6a7c91fe",
   "metadata": {},
   "outputs": [
    {
     "name": "stdout",
     "output_type": "stream",
     "text": [
      "sum of all the elements = 168\n"
     ]
    }
   ],
   "source": [
    "#ans2.\n",
    "d={'a':1,\n",
    "   'b':34,\n",
    "   'c':67,\n",
    "   'w':23,\n",
    "   'q':1,\n",
    "   'd':34,\n",
    "   'f':8\n",
    "}\n",
    "ss = 0\n",
    "for i in d:\n",
    "    ss = ss + d[i]\n",
    "print(f\"sum of all the elements = {ss}\")"
   ]
  },
  {
   "cell_type": "markdown",
   "id": "92c8c2fe",
   "metadata": {},
   "source": [
    "Q3.\tWrite a Python program to Merging two Dictionaries?"
   ]
  },
  {
   "cell_type": "code",
   "execution_count": 3,
   "id": "90f1fd23",
   "metadata": {},
   "outputs": [
    {
     "name": "stdout",
     "output_type": "stream",
     "text": [
      "{'r': 763, 'v': 89, 'a': 1, 'b': 34, 'c': 67, 'w': 23, 'q': 1, 'd': 34, 'f': 8}\n"
     ]
    }
   ],
   "source": [
    "#ans3.\n",
    "d={'a':1,\n",
    "   'b':34,\n",
    "   'c':67,\n",
    "   'w':23,\n",
    "   'q':1,\n",
    "   'd':34,\n",
    "   'f':8\n",
    "}\n",
    "\n",
    "dd = {'r':763,'v':89}\n",
    "dd.update(d)\n",
    "# here dd dictionary will have d element and its own\n",
    "print(dd)"
   ]
  },
  {
   "cell_type": "markdown",
   "id": "f1dc8531",
   "metadata": {},
   "source": [
    "Q4.\tWrite a Python program to convert key-values list to flat dictionary?"
   ]
  },
  {
   "cell_type": "code",
   "execution_count": 4,
   "id": "3240a602",
   "metadata": {},
   "outputs": [
    {
     "name": "stdout",
     "output_type": "stream",
     "text": [
      "{'insert': [1, 2], 'home': [3, 4], 'delete': [5, 6], 'end': [7, 8]}\n",
      "<class 'dict'>\n"
     ]
    }
   ],
   "source": [
    "#ans4.\n",
    "l1 = ['insert','home','delete','end']\n",
    "l2 = [[1,2],[3,4],[5,6],[7,8]]\n",
    "di = dict(zip(l1,l2))\n",
    "print(di)\n",
    "print(type(di))"
   ]
  },
  {
   "cell_type": "markdown",
   "id": "8a86a57d",
   "metadata": {},
   "source": [
    "Q5.\tWrite a Python program to insertion at the beginning in OrderedDict?"
   ]
  },
  {
   "cell_type": "code",
   "execution_count": 5,
   "id": "0b8cbfc2",
   "metadata": {},
   "outputs": [
    {
     "name": "stdout",
     "output_type": "stream",
     "text": [
      "OrderedDict([('c', '3'), ('a', '1'), ('b', '2')])\n"
     ]
    }
   ],
   "source": [
    "#ans5.\n",
    "from collections import OrderedDict\n",
    "\n",
    "od = OrderedDict([('a','1'),('b','2')])\n",
    "od.update({'c':'3'})\n",
    "od.move_to_end('c',last = False)\n",
    "print(od)"
   ]
  },
  {
   "cell_type": "markdown",
   "id": "7f97855a",
   "metadata": {},
   "source": [
    "Q6.\tWrite a Python program to check order of character in string using OrderedDict()?"
   ]
  },
  {
   "cell_type": "code",
   "execution_count": 7,
   "id": "9ffe5274",
   "metadata": {},
   "outputs": [
    {
     "name": "stdout",
     "output_type": "stream",
     "text": [
      "ordered\n"
     ]
    }
   ],
   "source": [
    "#ans6.\n",
    "from collections import OrderedDict\n",
    "\n",
    "md = OrderedDict.fromkeys(\"i am home\")\n",
    "p = \"am\"           #input(\"enter the pattern to check the order: \")\n",
    "pl = 0\n",
    "for k,v in md.items():\n",
    "    if k == p[pl]:\n",
    "        pl = pl + 1\n",
    "    if pl == len(p):\n",
    "        print(\"ordered\")\n",
    "        break\n",
    "else:\n",
    "    print(\"unordered\")"
   ]
  },
  {
   "cell_type": "markdown",
   "id": "56045617",
   "metadata": {},
   "source": [
    "Q7.\tWrite a Python program to sort Python Dictionaries by Key or Value?"
   ]
  },
  {
   "cell_type": "code",
   "execution_count": 8,
   "id": "c04bfca7",
   "metadata": {},
   "outputs": [
    {
     "name": "stdout",
     "output_type": "stream",
     "text": [
      "OrderedDict([('rajnish', '9'), ('ravi', '10'), ('sanjeev', '15'), ('suraj', '32'), ('yash', '2')])\n"
     ]
    }
   ],
   "source": [
    "#ans7.\n",
    "from collections import OrderedDict\n",
    "\n",
    "#sorting by key \n",
    "d = {'ravi': '10', 'rajnish': '9','sanjeev': '15', 'yash': '2', 'suraj': '32'}\n",
    "\n",
    "d1 = OrderedDict(sorted(d.items()))\n",
    "print(d1)"
   ]
  },
  {
   "cell_type": "code",
   "execution_count": null,
   "id": "067521e6",
   "metadata": {},
   "outputs": [],
   "source": []
  }
 ],
 "metadata": {
  "kernelspec": {
   "display_name": "Python 3 (ipykernel)",
   "language": "python",
   "name": "python3"
  },
  "language_info": {
   "codemirror_mode": {
    "name": "ipython",
    "version": 3
   },
   "file_extension": ".py",
   "mimetype": "text/x-python",
   "name": "python",
   "nbconvert_exporter": "python",
   "pygments_lexer": "ipython3",
   "version": "3.9.12"
  }
 },
 "nbformat": 4,
 "nbformat_minor": 5
}
