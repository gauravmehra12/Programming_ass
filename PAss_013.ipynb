{
 "cells": [
  {
   "cell_type": "code",
   "execution_count": null,
   "id": "85286729",
   "metadata": {},
   "outputs": [],
   "source": [
    "Question 1:\n",
    "\n",
    "Write a program that calculates and prints the value according to the given formula:\n",
    "\n",
    "Q = Square root of [(2 * C * D)/H]\n",
    "\n",
    "Following are the fixed values of C and H:\n",
    "\n",
    "C is 50. H is 30.\n",
    "\n",
    "D is the variable whose values should be input to your program in a comma-separated sequence.\n",
    "\n",
    "Example\n",
    "\n",
    "Let us assume the following comma separated input sequence is given to the program:\n",
    "\n",
    "100,150,180\n",
    "\n",
    "The output of the program should be:\n",
    "\n",
    "18,22,24\n",
    "\n"
   ]
  },
  {
   "cell_type": "code",
   "execution_count": 2,
   "id": "c8855b81",
   "metadata": {},
   "outputs": [
    {
     "name": "stdout",
     "output_type": "stream",
     "text": [
      "Enter the integer values of D in comma seperated sequence: 100,150,180\n",
      "18,22,24"
     ]
    }
   ],
   "source": [
    "#ans1.\n",
    "D = input(\"Enter the integer values of D in comma seperated sequence: \")\n",
    "D = D.split(',')\n",
    "C,H = 50,30\n",
    "for i in D:\n",
    "    Q = ((2 * C * int(i))/H)**(1/2)\n",
    "    if (D.index(i)+1) == len(D):\n",
    "        print(int(Q),end = '')\n",
    "    else:\n",
    "        print(int(Q),end = ',')"
   ]
  },
  {
   "cell_type": "code",
   "execution_count": null,
   "id": "fde0477e",
   "metadata": {},
   "outputs": [],
   "source": [
    "Question 2:\n",
    "Write a program which takes 2 digits, X,Y as input and generates a 2-dimensional array. The element value in the i-th \n",
    "row and j-th column of the array should be i*j.\n",
    "\n",
    "Note: i=0,1.., X-1; j=0,1,¡¬Y-1.\n",
    "\n",
    "Example\n",
    "\n",
    "Suppose the following inputs are given to the program:\n",
    "\n",
    "3,5\n",
    "\n",
    "Then, the output of the program should be:\n",
    "\n",
    "[[0, 0, 0, 0, 0], [0, 1, 2, 3, 4], [0, 2, 4, 6, 8]] \n",
    "\n",
    "\n"
   ]
  },
  {
   "cell_type": "code",
   "execution_count": 3,
   "id": "c25cfe6a",
   "metadata": {},
   "outputs": [
    {
     "name": "stdout",
     "output_type": "stream",
     "text": [
      "Enter the value of i (number of rows): 3\n",
      "Enter the value of j (number of columns): 5\n",
      "[[0, 0, 0, 0, 0], [0, 1, 2, 3, 4], [0, 2, 4, 6, 8]]\n"
     ]
    }
   ],
   "source": [
    "#ans2.\n",
    "X = int(input(\"Enter the value of i (number of rows): \"))\n",
    "Y = int(input(\"Enter the value of j (number of columns): \"))\n",
    "l = []\n",
    "\n",
    "for i in range(X):\n",
    "    l.append(list())\n",
    "    for j in range(Y):\n",
    "        l[i].append(i*j)\n",
    "        \n",
    "print(l)"
   ]
  },
  {
   "cell_type": "code",
   "execution_count": null,
   "id": "cc317a68",
   "metadata": {},
   "outputs": [],
   "source": [
    "Question 3:\n",
    "Write a program that accepts a comma separated sequence of words as input and prints the words in a comma-separated \n",
    "sequence after sorting them alphabetically.\n",
    "\n",
    "Suppose the following input is supplied to the program:\n",
    "\n",
    "without,hello,bag,world\n",
    "\n",
    "Then, the output should be:\n",
    "\n",
    "bag,hello,without,world\n",
    "\n",
    "\n",
    "\n"
   ]
  },
  {
   "cell_type": "code",
   "execution_count": 4,
   "id": "c91286d6",
   "metadata": {},
   "outputs": [
    {
     "name": "stdout",
     "output_type": "stream",
     "text": [
      "Enter words in comma separated sequence: without,hello,bag,world\n",
      "bag,hello,without,world\n"
     ]
    }
   ],
   "source": [
    "#ans3.\n",
    "a = input(\"Enter words in comma separated sequence: \")\n",
    "\n",
    "a = a.split(\",\")\n",
    "a.sort()\n",
    "a = \",\".join(a)\n",
    "\n",
    "print(a)"
   ]
  },
  {
   "cell_type": "code",
   "execution_count": null,
   "id": "bd5e4807",
   "metadata": {},
   "outputs": [],
   "source": [
    "Question 4:\n",
    "Write a program that accepts a sequence of whitespace separated words as input and prints the words after removing all \n",
    "duplicate words and sorting them alphanumerically.\n",
    "\n",
    "Suppose the following input is supplied to the program:\n",
    "\n",
    "hello world and practice makes perfect and hello world again\n",
    "\n",
    "Then, the output should be:\n",
    "\n",
    "again and hello makes perfect practice world\n",
    "\n"
   ]
  },
  {
   "cell_type": "code",
   "execution_count": 5,
   "id": "51774c55",
   "metadata": {},
   "outputs": [
    {
     "name": "stdout",
     "output_type": "stream",
     "text": [
      "Enter words in whitespace separated sequence: hello world and practice makes perfect and hello world again\n",
      "again and hello makes perfect practice world\n"
     ]
    }
   ],
   "source": [
    "#ans4.\n",
    "a = input(\"Enter words in whitespace separated sequence: \")\n",
    "\n",
    "a = a.split(\" \")\n",
    "a = list(set(a))\n",
    "a.sort()\n",
    "a = \" \".join(a)\n",
    "\n",
    "print(a)"
   ]
  },
  {
   "cell_type": "code",
   "execution_count": null,
   "id": "ce4c6a16",
   "metadata": {},
   "outputs": [],
   "source": [
    "Question 5:\n",
    "Write a program that accepts a sentence and calculate the number of letters and digits.\n",
    "\n",
    "Suppose the following input is supplied to the program:\n",
    "\n",
    "hello world! 123\n",
    "\n",
    "Then, the output should be:\n",
    "\n",
    "LETTERS 10\n",
    "\n",
    "DIGITS 3\n",
    "\n"
   ]
  },
  {
   "cell_type": "code",
   "execution_count": 6,
   "id": "2adc60dc",
   "metadata": {},
   "outputs": [
    {
     "name": "stdout",
     "output_type": "stream",
     "text": [
      "Enter String for Calculation: hello world! 123\n",
      "LETTERS 10\n",
      "DIGITS 3\n"
     ]
    }
   ],
   "source": [
    "#ans5.\n",
    "I = input(\"Enter String for Calculation: \")\n",
    "L = 0\n",
    "D = 0\n",
    "for i in I:\n",
    "    if i.isdigit():\n",
    "        D = D+1\n",
    "    if i.isalpha():\n",
    "        L = L+1\n",
    "print(f\"LETTERS {L}\\nDIGITS {D}\")"
   ]
  },
  {
   "cell_type": "code",
   "execution_count": null,
   "id": "bbf01082",
   "metadata": {},
   "outputs": [],
   "source": [
    "Question 6:\n",
    "A website requires the users to input username and password to register. Write a program to check the validity of \n",
    "password input by users.\n",
    "\n",
    "Following are the criteria for checking the password:\n",
    "\n",
    "1. At least 1 letter between [a-z]\n",
    "\n",
    "2. At least 1 number between [0-9]\n",
    "\n",
    "1. At least 1 letter between [A-Z]\n",
    "\n",
    "3. At least 1 character from [$#@]\n",
    "\n",
    "4. Minimum length of transaction password: 6\n",
    "\n",
    "5. Maximum length of transaction password: 12\n",
    "\n",
    "Your program should accept a sequence of comma separated passwords and will check them according to the above criteria. \n",
    "Passwords that match the criteria are to be printed, each separated by a comma.\n",
    "\n",
    "Example\n",
    "\n",
    "If the following passwords are given as input to the program:\n",
    "\n",
    "ABd1234@1,a F1#,2w3E*,2We3345\n",
    "\n",
    "Then, the output of the program should be:\n",
    "\n",
    "ABd1234@1\n"
   ]
  },
  {
   "cell_type": "code",
   "execution_count": 10,
   "id": "e0d7793f",
   "metadata": {},
   "outputs": [
    {
     "name": "stdout",
     "output_type": "stream",
     "text": [
      "Enter passwords in comma separated sequence to validate: ABd1234@1,a F1#,2w3E*,2We3345\n",
      "Valid Passwords are: \n",
      "ABd1234@1\n"
     ]
    }
   ],
   "source": [
    "#ans6.\n",
    "passwords = input(\"Enter passwords in comma separated sequence to validate: \")\n",
    "p = passwords.split(\",\")\n",
    "l = []\n",
    "\n",
    "for i in p:\n",
    "    flag = 0\n",
    "    if len(i)>=6 and len(i)<=12:\n",
    "        flag = flag + 2\n",
    "    for c in i:\n",
    "        if c.isdigit():\n",
    "            flag = flag + 1\n",
    "            break\n",
    "    for j in i:\n",
    "        if j.islower():\n",
    "            flag = flag + 1\n",
    "            break\n",
    "    for k in i:\n",
    "        if k.isupper():\n",
    "            flag = flag + 1\n",
    "            break\n",
    "    for m in i:\n",
    "        if m in \"$#@\":\n",
    "            flag = flag + 1\n",
    "            break\n",
    "    if flag == 6:\n",
    "        l.append(i)\n",
    "\n",
    "valid_passwords = \",\".join(l)\n",
    "print(\"Valid Passwords are: \")\n",
    "print(valid_passwords)"
   ]
  },
  {
   "cell_type": "code",
   "execution_count": null,
   "id": "fd72878c",
   "metadata": {},
   "outputs": [],
   "source": []
  }
 ],
 "metadata": {
  "kernelspec": {
   "display_name": "Python 3 (ipykernel)",
   "language": "python",
   "name": "python3"
  },
  "language_info": {
   "codemirror_mode": {
    "name": "ipython",
    "version": 3
   },
   "file_extension": ".py",
   "mimetype": "text/x-python",
   "name": "python",
   "nbconvert_exporter": "python",
   "pygments_lexer": "ipython3",
   "version": "3.9.12"
  }
 },
 "nbformat": 4,
 "nbformat_minor": 5
}
