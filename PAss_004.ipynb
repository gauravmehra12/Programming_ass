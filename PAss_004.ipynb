{
 "cells": [
  {
   "cell_type": "markdown",
   "id": "d97f0933",
   "metadata": {},
   "source": [
    "Q1.\tWrite a Python Program to Find the Factorial of a Number?"
   ]
  },
  {
   "cell_type": "code",
   "execution_count": 1,
   "id": "e681de74",
   "metadata": {},
   "outputs": [
    {
     "name": "stdout",
     "output_type": "stream",
     "text": [
      "Enter a number to find its factorial = 5\n",
      "Factorial of 5 = 120\n"
     ]
    }
   ],
   "source": [
    "#ans1.\n",
    "fac = int(input(\"Enter a number to find its factorial = \"))\n",
    "m = 1\n",
    "for i in range(1,fac+1):\n",
    "    m = m*i\n",
    "print(f\"Factorial of {fac} = {m}\")"
   ]
  },
  {
   "cell_type": "markdown",
   "id": "97988402",
   "metadata": {},
   "source": [
    "Q2.\tWrite a Python Program to Display the multiplication Table?"
   ]
  },
  {
   "cell_type": "code",
   "execution_count": 2,
   "id": "8c790f53",
   "metadata": {},
   "outputs": [
    {
     "name": "stdout",
     "output_type": "stream",
     "text": [
      "Enter a number to find its multiplicaton table = 10\n",
      "10 X 1 = 10\n",
      "10 X 2 = 20\n",
      "10 X 3 = 30\n",
      "10 X 4 = 40\n",
      "10 X 5 = 50\n",
      "10 X 6 = 60\n",
      "10 X 7 = 70\n",
      "10 X 8 = 80\n",
      "10 X 9 = 90\n",
      "10 X 10 = 100\n"
     ]
    }
   ],
   "source": [
    "#ans2.\n",
    "n = int(input(\"Enter a number to find its multiplicaton table = \"))\n",
    "for i in range(1,11):\n",
    "    print(f\"{n} X {i} = {n*i}\")"
   ]
  },
  {
   "cell_type": "markdown",
   "id": "ae3f04c0",
   "metadata": {},
   "source": [
    "Q3.\tWrite a Python Program to Print the Fibonacci sequence?"
   ]
  },
  {
   "cell_type": "code",
   "execution_count": 3,
   "id": "fd431612",
   "metadata": {},
   "outputs": [
    {
     "name": "stdout",
     "output_type": "stream",
     "text": [
      "Enter the range for fibonacci sequence = 11\n",
      "0\n",
      "1\n",
      "1\n",
      "2\n",
      "3\n",
      "5\n",
      "8\n",
      "13\n",
      "21\n",
      "34\n",
      "55\n"
     ]
    }
   ],
   "source": [
    "#ans3.\n",
    "a = 0\n",
    "b = 1\n",
    "n = int(input(\"Enter the range for fibonacci sequence = \"))\n",
    "for i in range(n):\n",
    "    print(a)\n",
    "    a , b = b , a+b"
   ]
  },
  {
   "cell_type": "markdown",
   "id": "477c124f",
   "metadata": {},
   "source": [
    "Q4.\tWrite a Python Program to Check Armstrong Number?"
   ]
  },
  {
   "cell_type": "code",
   "execution_count": 4,
   "id": "b826ba4c",
   "metadata": {},
   "outputs": [
    {
     "name": "stdout",
     "output_type": "stream",
     "text": [
      "Enter a number to check it is armstrong number or not = 371\n",
      " It is a armstrong number\n"
     ]
    }
   ],
   "source": [
    "#ans4.\n",
    "a = int(input(\"Enter a number to check it is armstrong number or not = \"))\n",
    "s = str(a)\n",
    "c = 0\n",
    "for i in s:\n",
    "    c = c +int(i)**3 \n",
    "if c == a:\n",
    "    print(\" It is a armstrong number\")\n",
    "else:\n",
    "    print(\"It is not a armstrong number\")"
   ]
  },
  {
   "cell_type": "code",
   "execution_count": 5,
   "id": "f1b1d08a",
   "metadata": {},
   "outputs": [
    {
     "name": "stdout",
     "output_type": "stream",
     "text": [
      "Enter a number to check it is armstrong number or not = 143\n",
      "It is not a armstrong number\n"
     ]
    }
   ],
   "source": [
    "#ans4.\n",
    "a = int(input(\"Enter a number to check it is armstrong number or not = \"))\n",
    "s = str(a)\n",
    "c = 0\n",
    "for i in s:\n",
    "    c = c +int(i)**3 \n",
    "if c == a:\n",
    "    print(\" It is a armstrong number\")\n",
    "else:\n",
    "    print(\"It is not a armstrong number\")"
   ]
  },
  {
   "cell_type": "markdown",
   "id": "ed39a6fa",
   "metadata": {},
   "source": [
    "Q5.\tWrite a Python Program to Find Armstrong Number in an Interval?"
   ]
  },
  {
   "cell_type": "code",
   "execution_count": 6,
   "id": "35c012eb",
   "metadata": {},
   "outputs": [
    {
     "name": "stdout",
     "output_type": "stream",
     "text": [
      "Enter the starting and ending of the interval where both included\n",
      "Starting of the interval = 1\n",
      "Ending of the interval = 400\n",
      "1\n",
      "153\n",
      "370\n",
      "371\n"
     ]
    }
   ],
   "source": [
    "#ans5.\n",
    "print(\"Enter the starting and ending of the interval where both included\")\n",
    "start = int(input(\"Starting of the interval = \"))\n",
    "end = int(input(\"Ending of the interval = \"))\n",
    "for i in range(start,end+1):\n",
    "    s = str(i)\n",
    "    c =  0\n",
    "    for j in s:\n",
    "        c = c +int(j)**3\n",
    "    if c == i:\n",
    "        print(i)"
   ]
  },
  {
   "cell_type": "markdown",
   "id": "8af4d6b1",
   "metadata": {},
   "source": [
    "Q6.\tWrite a Python Program to Find the Sum of Natural Numbers?"
   ]
  },
  {
   "cell_type": "code",
   "execution_count": 7,
   "id": "92d8aae3",
   "metadata": {},
   "outputs": [
    {
     "name": "stdout",
     "output_type": "stream",
     "text": [
      "Enter the natural number till you want to find the sum = 11\n",
      "The sum of first 11 natural numbers = 66\n"
     ]
    }
   ],
   "source": [
    "#ans6.\n",
    "num = int(input(\"Enter the natural number till you want to find the sum = \"))\n",
    "snn = 0\n",
    "for i in range(1,num+1):\n",
    "    snn = snn + i \n",
    "print(f\"The sum of first {num} natural numbers = {snn}\")"
   ]
  },
  {
   "cell_type": "code",
   "execution_count": null,
   "id": "3aa65e58",
   "metadata": {},
   "outputs": [],
   "source": []
  }
 ],
 "metadata": {
  "kernelspec": {
   "display_name": "Python 3 (ipykernel)",
   "language": "python",
   "name": "python3"
  },
  "language_info": {
   "codemirror_mode": {
    "name": "ipython",
    "version": 3
   },
   "file_extension": ".py",
   "mimetype": "text/x-python",
   "name": "python",
   "nbconvert_exporter": "python",
   "pygments_lexer": "ipython3",
   "version": "3.9.12"
  }
 },
 "nbformat": 4,
 "nbformat_minor": 5
}
