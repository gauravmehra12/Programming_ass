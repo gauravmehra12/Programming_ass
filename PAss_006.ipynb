{
 "cells": [
  {
   "cell_type": "markdown",
   "id": "0dc97f93",
   "metadata": {},
   "source": [
    "Q1.\tWrite a Python Program to Display Fibonacci Sequence Using Recursion?"
   ]
  },
  {
   "cell_type": "code",
   "execution_count": 4,
   "id": "e4a15658",
   "metadata": {},
   "outputs": [
    {
     "name": "stdout",
     "output_type": "stream",
     "text": [
      "Enter length of Fibonacci sequence to be obtained10\n",
      "0\n",
      "1\n",
      "1\n",
      "2\n",
      "3\n",
      "5\n",
      "8\n",
      "13\n",
      "21\n",
      "34\n"
     ]
    }
   ],
   "source": [
    "def fs(a):\n",
    "    if a <=1:\n",
    "        return a\n",
    "    else:\n",
    "        return(fs(a-1)+fs(a-2))\n",
    "length = int(input(\"Enter length of Fibonacci sequence to be obtained\"))\n",
    "if length<=0:\n",
    "    print(\"Enter the positive number\")\n",
    "else:\n",
    "    for i in range(length):\n",
    "        print(fs(i))"
   ]
  },
  {
   "cell_type": "markdown",
   "id": "92e06e65",
   "metadata": {},
   "source": [
    "Q2.\tWrite a Python Program to Find Factorial of Number Using Recursion?"
   ]
  },
  {
   "cell_type": "code",
   "execution_count": 1,
   "id": "37452b6b",
   "metadata": {},
   "outputs": [
    {
     "name": "stdout",
     "output_type": "stream",
     "text": [
      "Enter the number to find the factorial =5\n",
      "Factorial of 5 = 120 \n"
     ]
    }
   ],
   "source": [
    "#ans2.\n",
    "def fac(n):\n",
    "    if n == 1:\n",
    "        return 1\n",
    "    else:\n",
    "        return (n*fac(n-1))\n",
    "f = int(input(\"Enter the number to find the factorial =\"))\n",
    "print(f\"Factorial of {f} = {fac(f)} \")"
   ]
  },
  {
   "cell_type": "markdown",
   "id": "23dbc0b1",
   "metadata": {},
   "source": [
    "Q3.\tWrite a Python Program to calculate your Body Mass Index?"
   ]
  },
  {
   "cell_type": "code",
   "execution_count": 2,
   "id": "c34443fe",
   "metadata": {},
   "outputs": [
    {
     "name": "stdout",
     "output_type": "stream",
     "text": [
      "Enter your weight in kilograms = 72.6\n",
      "Enter your height in meters = 1.76\n",
      "Your BMI is given below\n"
     ]
    },
    {
     "data": {
      "text/plain": [
       "23.4375"
      ]
     },
     "execution_count": 2,
     "metadata": {},
     "output_type": "execute_result"
    }
   ],
   "source": [
    "#ans3.\n",
    "def bmi():\n",
    "    w = float(input(\"Enter your weight in kilograms = \"))\n",
    "    h = float(input(\"Enter your height in meters = \"))\n",
    "    bmi = w/(h**2)\n",
    "    print(\"Your BMI is given below\")\n",
    "    return bmi\n",
    "bmi()"
   ]
  },
  {
   "cell_type": "markdown",
   "id": "8b9ca577",
   "metadata": {},
   "source": [
    "Q4.\tWrite a Python Program to calculate the natural logarithm of any number?"
   ]
  },
  {
   "cell_type": "code",
   "execution_count": 1,
   "id": "1b2149e9",
   "metadata": {},
   "outputs": [
    {
     "name": "stdout",
     "output_type": "stream",
     "text": [
      "Enter the number to find its logarithm with base e = 20\n",
      "The natural logarithm of the 20.0 = 2.995732273553991\n"
     ]
    }
   ],
   "source": [
    "#ans4.\n",
    "import math\n",
    "l = float(input(\"Enter the number to find its logarithm with base e = \"))\n",
    "ans = math.log(l)\n",
    "print(f\"The natural logarithm of the {l} = {ans}\")"
   ]
  },
  {
   "cell_type": "markdown",
   "id": "89898f0e",
   "metadata": {},
   "source": [
    "Q5.\tWrite a Python Program for cube sum of first n natural numbers?"
   ]
  },
  {
   "cell_type": "code",
   "execution_count": 2,
   "id": "d4437482",
   "metadata": {},
   "outputs": [
    {
     "name": "stdout",
     "output_type": "stream",
     "text": [
      "Enter the number till to find sum of cubes = 5\n",
      "Cube sum of first 5 natural numbers = 225\n"
     ]
    }
   ],
   "source": [
    "#ans5.\n",
    "def test(n):\n",
    "    s = 0\n",
    "    for i in range(1,n+1):\n",
    "        s = s+i**3\n",
    "    return s\n",
    "nn = int(input(\"Enter the number till to find sum of cubes = \"))\n",
    "print(f\"Cube sum of first {nn} natural numbers = {test(nn)}\")"
   ]
  },
  {
   "cell_type": "code",
   "execution_count": null,
   "id": "5a2b6149",
   "metadata": {},
   "outputs": [],
   "source": []
  }
 ],
 "metadata": {
  "kernelspec": {
   "display_name": "Python 3 (ipykernel)",
   "language": "python",
   "name": "python3"
  },
  "language_info": {
   "codemirror_mode": {
    "name": "ipython",
    "version": 3
   },
   "file_extension": ".py",
   "mimetype": "text/x-python",
   "name": "python",
   "nbconvert_exporter": "python",
   "pygments_lexer": "ipython3",
   "version": "3.9.12"
  }
 },
 "nbformat": 4,
 "nbformat_minor": 5
}
