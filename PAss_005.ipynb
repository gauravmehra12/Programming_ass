{
 "cells": [
  {
   "cell_type": "markdown",
   "id": "773f7154",
   "metadata": {},
   "source": [
    "Q1.\tWrite a Python Program to Find LCM?"
   ]
  },
  {
   "cell_type": "code",
   "execution_count": 1,
   "id": "ffde0e9f",
   "metadata": {},
   "outputs": [
    {
     "name": "stdout",
     "output_type": "stream",
     "text": [
      "Enter first number = 5\n",
      "Enter second number = 6\n",
      "LCM of 5 and 6 = 30\n"
     ]
    }
   ],
   "source": [
    "#ans1.\n",
    "n1 = int(input(\"Enter first number = \"))\n",
    "n2 = int(input(\"Enter second number = \"))\n",
    "gg = 0\n",
    "if n1 == 0 or n2 == 0:\n",
    "    print(f\"LCM of {n1} and {n2} = {gg}\")\n",
    "else:\n",
    "    if n1>n2:\n",
    "        gg = n1\n",
    "    else:\n",
    "        gg = n2\n",
    "    while True:\n",
    "        if gg%n1 == 0 and gg%n2 == 0 :\n",
    "            print(f\"LCM of {n1} and {n2} = {gg}\")\n",
    "            break\n",
    "        else:\n",
    "            gg = gg+1"
   ]
  },
  {
   "cell_type": "markdown",
   "id": "f0695847",
   "metadata": {},
   "source": [
    "Q2.\tWrite a Python Program to Find HCF?"
   ]
  },
  {
   "cell_type": "code",
   "execution_count": 2,
   "id": "5f103c8b",
   "metadata": {},
   "outputs": [
    {
     "name": "stdout",
     "output_type": "stream",
     "text": [
      "Enter first number = 54\n",
      "Enter second number = 81\n",
      "HCF of 54 and 81 = 27\n"
     ]
    }
   ],
   "source": [
    "#ans2.\n",
    "n1 = int(input(\"Enter first number = \"))\n",
    "n2 = int(input(\"Enter second number = \"))\n",
    "hh = 0\n",
    "if n1 == 0:\n",
    "    print(f\"HCF of {n1} and {n2} = {n2}\")\n",
    "elif n2 == 0:\n",
    "    print(f\"HCF of {n1} and {n2} = {n1}\")\n",
    "else:\n",
    "    if n1<n2:\n",
    "        hh = n1\n",
    "    else:\n",
    "        hh = n2\n",
    "    while True:\n",
    "        if n1%hh == 0 and n2%hh == 0 :\n",
    "            print(f\"HCF of {n1} and {n2} = {hh}\")\n",
    "            break\n",
    "        else:\n",
    "            hh = hh -1"
   ]
  },
  {
   "cell_type": "markdown",
   "id": "bb7f5dcf",
   "metadata": {},
   "source": [
    "Q3.\tWrite a Python Program to Convert Decimal to Binary, Octal and Hexadecimal?"
   ]
  },
  {
   "cell_type": "code",
   "execution_count": 3,
   "id": "9800835d",
   "metadata": {},
   "outputs": [
    {
     "name": "stdout",
     "output_type": "stream",
     "text": [
      "Enter the decimal value / number = 56\n",
      "Decimal value 56 is :\n",
      "0b111000 in binary.\n",
      "0o70 in octal.\n",
      "0x38 in hexadecimal.\n"
     ]
    }
   ],
   "source": [
    "#ans3.\n",
    "val = int(input(\"Enter the decimal value / number = \"))\n",
    "print(f\"Decimal value {val} is :\")\n",
    "print(f\"{bin(val)} in binary.\")\n",
    "print(f\"{oct(val)} in octal.\")\n",
    "print(f\"{hex(val)} in hexadecimal.\")"
   ]
  },
  {
   "cell_type": "markdown",
   "id": "45c43784",
   "metadata": {},
   "source": [
    "Q4.\tWrite a Python Program To Find ASCII value of a character?"
   ]
  },
  {
   "cell_type": "code",
   "execution_count": 5,
   "id": "03259c45",
   "metadata": {},
   "outputs": [
    {
     "name": "stdout",
     "output_type": "stream",
     "text": [
      "Enter a character to find its ASCII value = g\n",
      "The ASCII value of g = 103\n"
     ]
    }
   ],
   "source": [
    "#ans4.\n",
    "ch = input(\"Enter a character to find its ASCII value = \")\n",
    "if len(ch) == 0:\n",
    "    print(\"Enter a character\")\n",
    "elif len(ch) == 1:\n",
    "    print(f\"The ASCII value of {ch} = {ord(ch)}\")\n",
    "else:\n",
    "    print(\"Enter a single character\")"
   ]
  },
  {
   "cell_type": "markdown",
   "id": "d35b7c80",
   "metadata": {},
   "source": [
    "Q5.\tWrite a Python Program to Make a Simple Calculator with 4 basic mathematical operations?"
   ]
  },
  {
   "cell_type": "code",
   "execution_count": 4,
   "id": "b2563cee",
   "metadata": {},
   "outputs": [
    {
     "name": "stdout",
     "output_type": "stream",
     "text": [
      "Enter first number = 67\n",
      "Enter second number = -34\n",
      "Enter A or addition\n",
      "S of subraction \n",
      "M or multiplicaton\n",
      "D for division \n",
      "                :   S\n",
      "67.0 - -34.0 = 101.0\n"
     ]
    }
   ],
   "source": [
    "#ans5.\n",
    "n1 = float(input(\"Enter first number = \"))\n",
    "n2 = float(input(\"Enter second number = \"))\n",
    "o = input(\"\"\"Enter A or addition\n",
    "S of subraction \n",
    "M or multiplicaton\n",
    "D for division \n",
    "                :   \"\"\")\n",
    "if o == \"A\":\n",
    "    print(f\"{n1} + {n2} = {n1+n2}\")\n",
    "elif o == \"S\":\n",
    "    print(f\"{n1} - {n2} = {n1-n2}\")\n",
    "elif o == \"M\":\n",
    "    print(f\"{n1} X {n2} = {n1*n2}\")\n",
    "elif o == \"D\":\n",
    "    if n2 == 0:\n",
    "        print(\"undefined as divided by zero\")\n",
    "    else:\n",
    "        print(f\"{n1} / {n2} = {n1/n2}\")\n",
    "else:\n",
    "    print(\"Enter valid input of operation\")"
   ]
  },
  {
   "cell_type": "code",
   "execution_count": null,
   "id": "4b5c2768",
   "metadata": {},
   "outputs": [],
   "source": []
  }
 ],
 "metadata": {
  "kernelspec": {
   "display_name": "Python 3 (ipykernel)",
   "language": "python",
   "name": "python3"
  },
  "language_info": {
   "codemirror_mode": {
    "name": "ipython",
    "version": 3
   },
   "file_extension": ".py",
   "mimetype": "text/x-python",
   "name": "python",
   "nbconvert_exporter": "python",
   "pygments_lexer": "ipython3",
   "version": "3.9.12"
  }
 },
 "nbformat": 4,
 "nbformat_minor": 5
}
