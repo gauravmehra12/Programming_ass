{
 "cells": [
  {
   "cell_type": "markdown",
   "id": "95404f0d",
   "metadata": {},
   "source": [
    "Q1.\tWrite a Python program to check if the given number is a Disarium Number?"
   ]
  },
  {
   "cell_type": "code",
   "execution_count": 1,
   "id": "98fee1da",
   "metadata": {},
   "outputs": [
    {
     "name": "stdout",
     "output_type": "stream",
     "text": [
      "Enter a number to check it Disarium number or not = 135\n",
      "135 is a Disarium Number\n"
     ]
    }
   ],
   "source": [
    "#ans1.\n",
    "n = int(input(\"Enter a number to check it Disarium number or not = \"))\n",
    "nn = str(n)\n",
    "s = 0\n",
    "for i in range(len(nn)):\n",
    "    s = s + int(nn[i])**(i+1)\n",
    "if s == n:\n",
    "    print(f\"{n} is a Disarium Number\")\n",
    "else:\n",
    "    print(f\"{n} is not a Disarium Number\")"
   ]
  },
  {
   "cell_type": "markdown",
   "id": "2c4d80f6",
   "metadata": {},
   "source": [
    "Q2.\tWrite a Python program to print all disarium numbers between 1 to 100?"
   ]
  },
  {
   "cell_type": "code",
   "execution_count": 2,
   "id": "a103a81a",
   "metadata": {},
   "outputs": [
    {
     "name": "stdout",
     "output_type": "stream",
     "text": [
      "1 is a Disarium Number\n",
      "2 is a Disarium Number\n",
      "3 is a Disarium Number\n",
      "4 is a Disarium Number\n",
      "5 is a Disarium Number\n",
      "6 is a Disarium Number\n",
      "7 is a Disarium Number\n",
      "8 is a Disarium Number\n",
      "9 is a Disarium Number\n",
      "89 is a Disarium Number\n"
     ]
    }
   ],
   "source": [
    "#ans2.\n",
    "for n in range(1,100):\n",
    "    nn = str(n)\n",
    "    s = 0\n",
    "    for i in range(len(nn)):\n",
    "        s = s + int(nn[i])**(i+1)\n",
    "    if s == n:\n",
    "        print(f\"{n} is a Disarium Number\")"
   ]
  },
  {
   "cell_type": "markdown",
   "id": "b64bedc5",
   "metadata": {},
   "source": [
    "Q3.\tWrite a Python program to check if the given number is Happy Number?"
   ]
  },
  {
   "cell_type": "code",
   "execution_count": 1,
   "id": "294ee662",
   "metadata": {},
   "outputs": [
    {
     "name": "stdout",
     "output_type": "stream",
     "text": [
      "Enter a number to check if it is Happy number or not = 86\n",
      "86 is a Happy Number\n"
     ]
    }
   ],
   "source": [
    "#ans3.\n",
    "n = int(input(\"Enter a number to check if it is Happy number or not = \"))\n",
    "nn = str(n)\n",
    "while True:\n",
    "    if len(nn)==1:\n",
    "        if int(nn) == 1 or int(nn) == 7:\n",
    "            print(f\"{n} is a Happy Number\")\n",
    "            break\n",
    "        else:\n",
    "            print(f\"{n} is not a Happy Number\")\n",
    "            break\n",
    "    else:\n",
    "        s = 0\n",
    "        for i in range(len(nn)):\n",
    "            s = s + int(nn[i])**2\n",
    "        nn = str(s)"
   ]
  },
  {
   "cell_type": "markdown",
   "id": "b1a23aac",
   "metadata": {},
   "source": [
    "Q4.\tWrite a Python program to print all happy numbers between 1 and 100?"
   ]
  },
  {
   "cell_type": "code",
   "execution_count": 2,
   "id": "1cd4bf1e",
   "metadata": {},
   "outputs": [
    {
     "name": "stdout",
     "output_type": "stream",
     "text": [
      "1 is a Happy Number\n",
      "7 is a Happy Number\n",
      "10 is a Happy Number\n",
      "13 is a Happy Number\n",
      "19 is a Happy Number\n",
      "23 is a Happy Number\n",
      "28 is a Happy Number\n",
      "31 is a Happy Number\n",
      "32 is a Happy Number\n",
      "44 is a Happy Number\n",
      "49 is a Happy Number\n",
      "68 is a Happy Number\n",
      "70 is a Happy Number\n",
      "79 is a Happy Number\n",
      "82 is a Happy Number\n",
      "86 is a Happy Number\n",
      "91 is a Happy Number\n",
      "94 is a Happy Number\n",
      "97 is a Happy Number\n",
      "100 is a Happy Number\n"
     ]
    }
   ],
   "source": [
    "#ans4.\n",
    "for n in range(1,101):\n",
    "    nn = str(n)\n",
    "    while True:\n",
    "        if len(nn)==1:\n",
    "            if int(nn) == 1 or int(nn) == 7:\n",
    "                print(f\"{n} is a Happy Number\")\n",
    "                break\n",
    "            else:\n",
    "                #print(f\"{n} is not a Happy Number\")\n",
    "                break\n",
    "        else:\n",
    "            s = 0\n",
    "            for i in range(len(nn)):\n",
    "                s = s + int(nn[i])**2\n",
    "            nn = str(s)"
   ]
  },
  {
   "cell_type": "markdown",
   "id": "e6d8bddc",
   "metadata": {},
   "source": [
    "Q5.\tWrite a Python program to determine whether the given number is a Harshad Number?"
   ]
  },
  {
   "cell_type": "code",
   "execution_count": 3,
   "id": "268535c2",
   "metadata": {},
   "outputs": [
    {
     "name": "stdout",
     "output_type": "stream",
     "text": [
      "Enter a number to check if it is Harshad Number or not = 61\n",
      "61 is not a Harshad Number\n"
     ]
    }
   ],
   "source": [
    "#ans5.\n",
    "n = int(input('Enter a number to check if it is Harshad Number or not = '))\n",
    "nn = str(n)\n",
    "s = 0\n",
    "for i in nn:\n",
    "    s = s+int(i)\n",
    "if n%s == 0:\n",
    "    print(f\"{n} is a Harshad Number\")\n",
    "else:\n",
    "    print(f\"{n} is not a Harshad Number\")"
   ]
  },
  {
   "cell_type": "markdown",
   "id": "0dbce8df",
   "metadata": {},
   "source": [
    "Q6.\tWrite a Python program to print all pronic numbers between 1 and 100?"
   ]
  },
  {
   "cell_type": "code",
   "execution_count": 5,
   "id": "c5b4100a",
   "metadata": {},
   "outputs": [
    {
     "name": "stdout",
     "output_type": "stream",
     "text": [
      "0 is a pronic number\n",
      "2 is a pronic number\n",
      "6 is a pronic number\n",
      "12 is a pronic number\n",
      "20 is a pronic number\n",
      "30 is a pronic number\n",
      "42 is a pronic number\n",
      "56 is a pronic number\n",
      "72 is a pronic number\n",
      "90 is a pronic number\n"
     ]
    }
   ],
   "source": [
    "#ans6.\n",
    "p =1\n",
    "a = 0\n",
    "b = 1\n",
    "while True:\n",
    "    p = a*b\n",
    "    if p<=100:\n",
    "        print(f\"{p} is a pronic number\")\n",
    "    else:\n",
    "        break\n",
    "    a,b = b,b+1"
   ]
  },
  {
   "cell_type": "code",
   "execution_count": null,
   "id": "6205fc11",
   "metadata": {},
   "outputs": [],
   "source": []
  }
 ],
 "metadata": {
  "kernelspec": {
   "display_name": "Python 3 (ipykernel)",
   "language": "python",
   "name": "python3"
  },
  "language_info": {
   "codemirror_mode": {
    "name": "ipython",
    "version": 3
   },
   "file_extension": ".py",
   "mimetype": "text/x-python",
   "name": "python",
   "nbconvert_exporter": "python",
   "pygments_lexer": "ipython3",
   "version": "3.9.12"
  }
 },
 "nbformat": 4,
 "nbformat_minor": 5
}
