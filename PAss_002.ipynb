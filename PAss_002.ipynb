{
 "cells": [
  {
   "cell_type": "markdown",
   "id": "47dccc00",
   "metadata": {},
   "source": [
    "Q1.\tWrite a Python program to convert kilometers to miles?"
   ]
  },
  {
   "cell_type": "code",
   "execution_count": null,
   "id": "1fa14292",
   "metadata": {},
   "outputs": [],
   "source": [
    "#ans1."
   ]
  },
  {
   "cell_type": "code",
   "execution_count": 1,
   "id": "3343f3cb",
   "metadata": {},
   "outputs": [
    {
     "name": "stdout",
     "output_type": "stream",
     "text": [
      "Enter the kilometers = 12.25\n",
      "12.25 kilomters will be equal to 7.6117970774999995\n"
     ]
    }
   ],
   "source": [
    "km = float(input(\"Enter the kilometers = \"))\n",
    "print(f\"{km} kilomters will be equal to {km*0.62137119}\")"
   ]
  },
  {
   "cell_type": "markdown",
   "id": "17b979a2",
   "metadata": {},
   "source": [
    "Q2.\tWrite a Python program to convert Celsius to Fahrenheit?"
   ]
  },
  {
   "cell_type": "code",
   "execution_count": 2,
   "id": "6e17dbb5",
   "metadata": {},
   "outputs": [
    {
     "name": "stdout",
     "output_type": "stream",
     "text": [
      "Enter the temperature in Celsius = 38\n",
      "The temperature in Fahrenheit = 100.4\n"
     ]
    }
   ],
   "source": [
    "#ans2.\n",
    "cel = float(input(\"Enter the temperature in Celsius = \"))\n",
    "print(f\"The temperature in Fahrenheit = {1.8*cel + 32}\")"
   ]
  },
  {
   "cell_type": "markdown",
   "id": "0830c261",
   "metadata": {},
   "source": [
    "Q3.\tWrite a Python program to display calendar?"
   ]
  },
  {
   "cell_type": "code",
   "execution_count": 3,
   "id": "ea52393e",
   "metadata": {},
   "outputs": [
    {
     "name": "stdout",
     "output_type": "stream",
     "text": [
      "                                  2022\n",
      "\n",
      "      January                   February                   March\n",
      "Mo Tu We Th Fr Sa Su      Mo Tu We Th Fr Sa Su      Mo Tu We Th Fr Sa Su\n",
      "                1  2          1  2  3  4  5  6          1  2  3  4  5  6\n",
      " 3  4  5  6  7  8  9       7  8  9 10 11 12 13       7  8  9 10 11 12 13\n",
      "10 11 12 13 14 15 16      14 15 16 17 18 19 20      14 15 16 17 18 19 20\n",
      "17 18 19 20 21 22 23      21 22 23 24 25 26 27      21 22 23 24 25 26 27\n",
      "24 25 26 27 28 29 30      28                        28 29 30 31\n",
      "31\n",
      "\n",
      "       April                      May                       June\n",
      "Mo Tu We Th Fr Sa Su      Mo Tu We Th Fr Sa Su      Mo Tu We Th Fr Sa Su\n",
      "             1  2  3                         1             1  2  3  4  5\n",
      " 4  5  6  7  8  9 10       2  3  4  5  6  7  8       6  7  8  9 10 11 12\n",
      "11 12 13 14 15 16 17       9 10 11 12 13 14 15      13 14 15 16 17 18 19\n",
      "18 19 20 21 22 23 24      16 17 18 19 20 21 22      20 21 22 23 24 25 26\n",
      "25 26 27 28 29 30         23 24 25 26 27 28 29      27 28 29 30\n",
      "                          30 31\n",
      "\n",
      "        July                     August                  September\n",
      "Mo Tu We Th Fr Sa Su      Mo Tu We Th Fr Sa Su      Mo Tu We Th Fr Sa Su\n",
      "             1  2  3       1  2  3  4  5  6  7                1  2  3  4\n",
      " 4  5  6  7  8  9 10       8  9 10 11 12 13 14       5  6  7  8  9 10 11\n",
      "11 12 13 14 15 16 17      15 16 17 18 19 20 21      12 13 14 15 16 17 18\n",
      "18 19 20 21 22 23 24      22 23 24 25 26 27 28      19 20 21 22 23 24 25\n",
      "25 26 27 28 29 30 31      29 30 31                  26 27 28 29 30\n",
      "\n",
      "      October                   November                  December\n",
      "Mo Tu We Th Fr Sa Su      Mo Tu We Th Fr Sa Su      Mo Tu We Th Fr Sa Su\n",
      "                1  2          1  2  3  4  5  6                1  2  3  4\n",
      " 3  4  5  6  7  8  9       7  8  9 10 11 12 13       5  6  7  8  9 10 11\n",
      "10 11 12 13 14 15 16      14 15 16 17 18 19 20      12 13 14 15 16 17 18\n",
      "17 18 19 20 21 22 23      21 22 23 24 25 26 27      19 20 21 22 23 24 25\n",
      "24 25 26 27 28 29 30      28 29 30                  26 27 28 29 30 31\n",
      "31\n",
      "\n"
     ]
    }
   ],
   "source": [
    "#ans3.\n",
    "import calendar\n",
    "print(calendar.calendar(2022))"
   ]
  },
  {
   "cell_type": "markdown",
   "id": "14c31fa7",
   "metadata": {},
   "source": [
    "Q4.\tWrite a Python program to solve quadratic equation?"
   ]
  },
  {
   "cell_type": "code",
   "execution_count": 4,
   "id": "5ff3c314",
   "metadata": {},
   "outputs": [
    {
     "name": "stdout",
     "output_type": "stream",
     "text": [
      "convert and compare your quadratic equation from Ax^2 + Bx + c = 0 ,\n",
      "then enter the following:\n",
      "where A, B, C are constants and x is variable to find\n",
      "Enter A = 1\n",
      "Enter B = 5\n",
      "Enter c = -14\n",
      "Two solution are 2.0 and -7.0\n"
     ]
    }
   ],
   "source": [
    "#Ans4.\n",
    "print(\"\"\"convert and compare your quadratic equation from Ax^2 + Bx + c = 0 ,\n",
    "then enter the following:\n",
    "where A, B, C are constants and x is variable to find\"\"\")\n",
    "A = float(input(\"Enter A = \"))\n",
    "B = float(input(\"Enter B = \"))\n",
    "C = float(input(\"Enter c = \"))\n",
    "s1 = (-B + (B**2 - 4*A*C)**(1/2))/(2*A)\n",
    "s2 = (-B - (B**2 - 4*A*C)**(1/2))/(2*A)\n",
    "print(f\"Two solution are {s1} and {s2}\")"
   ]
  },
  {
   "cell_type": "markdown",
   "id": "435b2423",
   "metadata": {},
   "source": [
    "Q5.\tWrite a Python program to swap two variables without temp variable?"
   ]
  },
  {
   "cell_type": "code",
   "execution_count": 5,
   "id": "fef7b062",
   "metadata": {},
   "outputs": [
    {
     "name": "stdout",
     "output_type": "stream",
     "text": [
      "Enter an integer x = 23\n",
      "Enter an integer y = 10\n",
      "Before swaping x = 23 and y = 10\n",
      "After swaping x = 10 and y = 23\n"
     ]
    }
   ],
   "source": [
    "#ans5.\n",
    "x = int(input(\"Enter an integer x = \"))\n",
    "y = int(input(\"Enter an integer y = \"))\n",
    "print(f\"Before swaping x = {x} and y = {y}\")\n",
    "x,y = y,x\n",
    "print(f\"After swaping x = {x} and y = {y}\")"
   ]
  }
 ],
 "metadata": {
  "kernelspec": {
   "display_name": "Python 3 (ipykernel)",
   "language": "python",
   "name": "python3"
  },
  "language_info": {
   "codemirror_mode": {
    "name": "ipython",
    "version": 3
   },
   "file_extension": ".py",
   "mimetype": "text/x-python",
   "name": "python",
   "nbconvert_exporter": "python",
   "pygments_lexer": "ipython3",
   "version": "3.9.12"
  }
 },
 "nbformat": 4,
 "nbformat_minor": 5
}
