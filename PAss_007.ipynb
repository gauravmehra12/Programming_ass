{
 "cells": [
  {
   "cell_type": "markdown",
   "id": "0563952c",
   "metadata": {},
   "source": [
    "Q1.\tWrite a Python Program to find sum of array?"
   ]
  },
  {
   "cell_type": "code",
   "execution_count": 1,
   "id": "21f9358d",
   "metadata": {},
   "outputs": [
    {
     "name": "stdout",
     "output_type": "stream",
     "text": [
      "Sum of array = 114\n"
     ]
    }
   ],
   "source": [
    "#ans1.\n",
    "l = [1,2,3,4,5,6,78,1,3,4,7]\n",
    "s = 0\n",
    "for i in l:\n",
    "    s = s + i\n",
    "print(f\"Sum of array = {s}\")"
   ]
  },
  {
   "cell_type": "markdown",
   "id": "4ed9fbc3",
   "metadata": {},
   "source": [
    "Q2.\tWrite a Python Program to find largest element in an array?"
   ]
  },
  {
   "cell_type": "code",
   "execution_count": 2,
   "id": "608d499e",
   "metadata": {},
   "outputs": [
    {
     "name": "stdout",
     "output_type": "stream",
     "text": [
      "The largest element in an array = 78\n"
     ]
    }
   ],
   "source": [
    "#ans2.\n",
    "l = [1,2,3,4,5,6,78,1,3,4,7]\n",
    "ss = 0\n",
    "for i in l:\n",
    "    if i>ss:\n",
    "        ss = i\n",
    "print(f\"The largest element in an array = {ss}\")"
   ]
  },
  {
   "cell_type": "markdown",
   "id": "38fcbba3",
   "metadata": {},
   "source": [
    "Q3.\tWrite a Python Program for array rotation?"
   ]
  },
  {
   "cell_type": "code",
   "execution_count": 4,
   "id": "827af552",
   "metadata": {},
   "outputs": [
    {
     "name": "stdout",
     "output_type": "stream",
     "text": [
      "Rotated list is\n",
      "[5, 6, 78, 1, 3, 4, 7, 1, 2, 3, 4]\n"
     ]
    }
   ],
   "source": [
    "#ans3.\n",
    "def ra(a,d):\n",
    "    n=len(a)\n",
    "    a[:]=a[d:n]+a[0:d]\n",
    "    return a\n",
    "l = [1,2,3,4,5,6,78,1,3,4,7]\n",
    "print(\"Rotated list is\")\n",
    "print(ra(l,4)) "
   ]
  },
  {
   "cell_type": "markdown",
   "id": "066dcb30",
   "metadata": {},
   "source": [
    "Q4.\tWrite a Python Program to Split the array and add the first part to the end?"
   ]
  },
  {
   "cell_type": "code",
   "execution_count": 5,
   "id": "591b8f46",
   "metadata": {},
   "outputs": [
    {
     "name": "stdout",
     "output_type": "stream",
     "text": [
      "Select the first part to add in the end = 1\n",
      "[2, 34, 5, 6, 78, 83, 34, 6, 73, 23, 1]\n"
     ]
    }
   ],
   "source": [
    "#ans4.\n",
    "l = [1,2,34,5,6,78,83,34,6,73,23]\n",
    "dis = int(input(\"Select the first part to add in the end = \"))\n",
    "ll = l[dis:] + l[:dis]\n",
    "print(ll)"
   ]
  },
  {
   "cell_type": "markdown",
   "id": "f5586af0",
   "metadata": {},
   "source": [
    "Q5.\tWrite a Python Program to check if given array is Monotonic?"
   ]
  },
  {
   "cell_type": "code",
   "execution_count": 6,
   "id": "7ee581ff",
   "metadata": {},
   "outputs": [
    {
     "name": "stdout",
     "output_type": "stream",
     "text": [
      "[1, 2, 34, 5, 6, 78, 83, 34, 6, 73, 23] is not monotonic in nature\n"
     ]
    }
   ],
   "source": [
    "#ans5.\n",
    "l = [1,2,34,5,6,78,83,34,6,73,23]\n",
    "ll = sorted(l)\n",
    "lll = ll[::-1]\n",
    "if l == ll or l == lll:\n",
    "    print(f\"{l} is monotonic in nature\")\n",
    "else:\n",
    "    print(f\"{l} is not monotonic in nature\")"
   ]
  },
  {
   "cell_type": "code",
   "execution_count": null,
   "id": "8e3c7468",
   "metadata": {},
   "outputs": [],
   "source": []
  }
 ],
 "metadata": {
  "kernelspec": {
   "display_name": "Python 3 (ipykernel)",
   "language": "python",
   "name": "python3"
  },
  "language_info": {
   "codemirror_mode": {
    "name": "ipython",
    "version": 3
   },
   "file_extension": ".py",
   "mimetype": "text/x-python",
   "name": "python",
   "nbconvert_exporter": "python",
   "pygments_lexer": "ipython3",
   "version": "3.9.12"
  }
 },
 "nbformat": 4,
 "nbformat_minor": 5
}
